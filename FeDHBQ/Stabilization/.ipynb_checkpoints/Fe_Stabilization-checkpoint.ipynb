{
 "cells": [
  {
   "cell_type": "code",
   "execution_count": 1,
   "id": "223b72b2-750d-4dbc-9c56-f16518b94bfe",
   "metadata": {},
   "outputs": [
    {
     "name": "stdout",
     "output_type": "stream",
     "text": [
      "Populating the interactive namespace from numpy and matplotlib\n"
     ]
    }
   ],
   "source": [
    "import numpy as np\n",
    "import scipy as sp\n",
    "import matplotlib.pyplot as plt\n",
    "from matplotlib.backends.backend_pdf import PdfPages\n",
    "from scipy import constants\n",
    "%pylab inline"
   ]
  },
  {
   "cell_type": "code",
   "execution_count": 13,
   "id": "69bcc975-7e3d-40d9-94da-b308c16c3621",
   "metadata": {},
   "outputs": [],
   "source": [
    "Ion_count = [0,2,3,4]\n",
    "Energies_square = np.array([4708.59625, 3156.864193548387097, 2730.935504377013699, 2417.305714285714286])\n",
    "Energies_hex = np.array([4706.955, 3155.841290322580645, 2731.860068661958904, 2418.136190476190476])"
   ]
  },
  {
   "cell_type": "code",
   "execution_count": 11,
   "id": "495f6479-2f43-4e82-88f5-ff3b2364e607",
   "metadata": {},
   "outputs": [],
   "source": [
    "Energy_difference = list(np.subtract(Energies_square, Energies_hex))"
   ]
  },
  {
   "cell_type": "code",
   "execution_count": 12,
   "id": "e5a8a395-9935-4a93-9b2f-45ac0cdd9eb8",
   "metadata": {},
   "outputs": [
    {
     "name": "stdout",
     "output_type": "stream",
     "text": [
      "[1.6412499999996726, 1.0229032258062034, -0.9245642849450633, -0.8304761904764746]\n"
     ]
    }
   ],
   "source": [
    "print(Energy_difference)"
   ]
  },
  {
   "cell_type": "code",
   "execution_count": 51,
   "id": "919591d0-e264-4b99-9451-4b63bd7ff5e0",
   "metadata": {},
   "outputs": [
    {
     "data": {
      "image/png": "[encoded data removed]",
      "text/plain": [
       "<Figure size 432x216 with 1 Axes>"
      ]
     },
     "metadata": {
      "needs_background": "light"
     },
     "output_type": "display_data"
    }
   ],
   "source": [
    "fig = plt.figure(figsize=(6, 3))\n",
    "\n",
    "ax1 = plt.subplot()\n",
    "\n",
    "ax1.scatter(Ion_count, Energy_difference, marker='.', s=500)\n",
    "ax1.hlines(0, -1, 5, color='r', linestyle='--')\n",
    "\n",
    "ax1.set_xlim(-0.4, 4.4)\n",
    "ax1.set_ylim(-1.4, 1.9)\n",
    "ax1.set_xlabel('Cation count per unit cell', fontsize='20')\n",
    "ax1.set_ylabel('$E_{hex} - E_{sq}$', fontsize='20')\n",
    "\n",
    "plt.savefig('Energies_vs_cationcount.png', dpi=300, bbox_inches=\"tight\", facecolor=fig.get_facecolor(), edgecolor='none')"
   ]
  }
 ],
 "metadata": {
  "kernelspec": {
   "display_name": "Python 3 (ipykernel)",
   "language": "python",
   "name": "python3"
  },
  "language_info": {
   "codemirror_mode": {
    "name": "ipython",
    "version": 3
   },
   "file_extension": ".py",
   "mimetype": "text/x-python",
   "name": "python",
   "nbconvert_exporter": "python",
   "pygments_lexer": "ipython3",
   "version": "3.7.0"
  }
 },
 "nbformat": 4,
 "nbformat_minor": 5
}
